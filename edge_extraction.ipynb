{
 "cells": [
  {
   "cell_type": "code",
   "execution_count": 4,
   "metadata": {},
   "outputs": [],
   "source": [
    "from skimage.feature import canny\n",
    "from imageio import imread\n",
    "from skimage.color import rgb2gray\n",
    "import cv2 as cv\n",
    "import sys\n",
    "import os\n",
    "import glob\n",
    "import scipy.misc\n",
    "from PIL import Image\n",
    "import numpy as np\n",
    "import random"
   ]
  },
  {
   "cell_type": "code",
   "execution_count": 84,
   "metadata": {},
   "outputs": [],
   "source": [
    "size = 256\n",
    "dir_image = './I2I-Dataset/cat2dog/testB/'\n",
    "dir_edge = './I2I-Dataset/cat2dog/edge_testB/'\n",
    "dir_AB = './I2I-Dataset/cat2dog/test_dog/'\n",
    "num = 100"
   ]
  },
  {
   "cell_type": "code",
   "execution_count": 74,
   "metadata": {},
   "outputs": [],
   "source": [
    "def load_dataset(dir):\n",
    "    images=[]\n",
    "    assert os.path.isdir(dir), '%s is not a valid directory' % dir\n",
    "    fnames = sorted(os.walk(dir))\n",
    "#     print(fnames[0][2])\n",
    "    for f in sorted(fnames[0][2]):\n",
    "        if is_image_file(f):\n",
    "            images.append(os.path.join(dir,f))\n",
    "    return images\n",
    "    \n",
    "\n",
    "IMG_EXTENSIONS = [\n",
    "    '.jpg', '.JPG', '.jpeg', '.JPEG',\n",
    "    '.png', '.PNG', '.ppm', '.PPM', '.bmp', '.BMP',\n",
    "    '.tiff', '.txt', '.json'\n",
    "]\n",
    "\n",
    "def is_image_file(filename):\n",
    "    return any(filename.endswith(extension) for extension in IMG_EXTENSIONS)"
   ]
  },
  {
   "cell_type": "code",
   "execution_count": 36,
   "metadata": {},
   "outputs": [],
   "source": [
    "def edge_extract(fname):\n",
    "    img=imread(fname)\n",
    "    img=np.array(Image.fromarray(img).resize((size,size)))\n",
    "    img_gray=rgb2gray(img)\n",
    "    sigma = random.randint(2,3)\n",
    "    edge= canny(img_gray,sigma=sigma,mask=None)\n",
    "    return edge"
   ]
  },
  {
   "cell_type": "code",
   "execution_count": 86,
   "metadata": {},
   "outputs": [],
   "source": [
    "# extract edge and save.\n",
    "# dir_image = './I2I-Dataset/summer2winter_yosemite/trainB/'\n",
    "# dir_edge = './I2I-Dataset/summer2winter_yosemite/edge_trainB/'\n",
    "\n",
    "# image_list = load_dataset(dir_image)\n",
    "for i,img_name in enumerate(os.listdir(dir_image)):\n",
    "#     if i in range(0,2):\n",
    "    new_name='dog_%d.jpg'%i\n",
    "    new_path='/'.join([dir_image,new_name])\n",
    "    old_path='/'.join([dir_image,img_name])\n",
    "    if not os.path.isfile(new_path):\n",
    "        os.rename(old_path,new_path)\n",
    "    edge = edge_extract(new_path)\n",
    "    edge = np.invert(edge)\n",
    "    A = Image.fromarray(edge)\n",
    "    A.save(dir_edge+\"edge_dog_%d.jpg\"%i)"
   ]
  },
  {
   "cell_type": "code",
   "execution_count": 87,
   "metadata": {},
   "outputs": [],
   "source": [
    "# combine edge and orignal picture\n",
    "# give num\n",
    "\n",
    "def stitch(num):\n",
    "    for i in range(0,num):\n",
    "        A = Image.open(dir_edge+\"edge_dog_%d.jpg\"%i)\n",
    "        B = Image.open(dir_image+\"dog_%d.jpg\"%i)\n",
    "        B = B.resize((size,size))\n",
    "        AB = Image.new('RGB',(512,256))\n",
    "        AB.paste(A,(0,0,256,256))\n",
    "        AB.paste(B,(256,0,512,256))\n",
    "        AB.save(dir_AB+\"dog_AB_%d.jpg\"%i)\n",
    "    "
   ]
  },
  {
   "cell_type": "code",
   "execution_count": 88,
   "metadata": {},
   "outputs": [],
   "source": [
    "# dir_image = './I2I-Dataset/summer2winter_yosemite/trainA/'\n",
    "# dir_edge = './I2I-Dataset/summer2winter_yosemite/edge_trainA/'\n",
    "# dir_AB = './I2I-Dataset/summer2winter_yosemite/train_summer/'\n",
    "\n",
    "stitch(num)"
   ]
  },
  {
   "cell_type": "code",
   "execution_count": 54,
   "metadata": {},
   "outputs": [
    {
     "name": "stdout",
     "output_type": "stream",
     "text": [
      "<PIL.JpegImagePlugin.JpegImageFile image mode=RGB size=256x256 at 0x212ED476F60>\n",
      "<PIL.JpegImagePlugin.JpegImageFile image mode=L size=256x256 at 0x212EC050198>\n"
     ]
    }
   ],
   "source": [
    "dir_image = './I2I-Dataset/summer2winter_yosemite/trainA/'\n",
    "dir_edge = './I2I-Dataset/summer2winter_yosemite/edge_trainA/'\n",
    "dir_AB = './I2I-Dataset/summer2winter_yosemite/train_summer/'\n",
    "\n",
    "A=Image.open(dir_image+\"summer_10.jpg\")\n",
    "B=Image.open(dir_edge+\"edge_summer_10.jpg\")\n",
    "print(A)\n",
    "print(B)"
   ]
  },
  {
   "cell_type": "code",
   "execution_count": null,
   "metadata": {},
   "outputs": [],
   "source": []
  }
 ],
 "metadata": {
  "kernelspec": {
   "display_name": "Python [conda env:pytorch]",
   "language": "python",
   "name": "conda-env-pytorch-py"
  },
  "language_info": {
   "codemirror_mode": {
    "name": "ipython",
    "version": 3
   },
   "file_extension": ".py",
   "mimetype": "text/x-python",
   "name": "python",
   "nbconvert_exporter": "python",
   "pygments_lexer": "ipython3",
   "version": "3.7.3"
  }
 },
 "nbformat": 4,
 "nbformat_minor": 2
}
